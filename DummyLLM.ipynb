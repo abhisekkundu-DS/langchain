{
  "nbformat": 4,
  "nbformat_minor": 0,
  "metadata": {
    "colab": {
      "provenance": []
    },
    "kernelspec": {
      "name": "python3",
      "display_name": "Python 3"
    },
    "language_info": {
      "name": "python"
    }
  },
  "cells": [
    {
      "cell_type": "code",
      "execution_count": 1,
      "metadata": {
        "id": "gfX3kf1FT2YY"
      },
      "outputs": [],
      "source": [
        "import random\n",
        "\n",
        "class NakliLLM:\n",
        "  def __init__(self):\n",
        "    print('LLM created.')\n",
        "\n",
        "  def predict(self,promt):\n",
        "\n",
        "    responce_list=[\n",
        "        'Delhi is the capital of india.',\n",
        "        'IPL is cricket leauge.',\n",
        "        'AI stands for Artificial Inteligence.'\n",
        "    ]\n",
        "\n",
        "    return {'response': random.choice(responce_list)}"
      ]
    },
    {
      "cell_type": "code",
      "source": [
        "class NakliPromtTemplete:\n",
        "  def __init__(self, templete, input_varibles):\n",
        "    self.templete = templete\n",
        "    self.input_varibles = input_varibles\n",
        "\n",
        "\n",
        "  def format(self, input_dict):\n",
        "    return self.templete.format(**input_dict)\n",
        ""
      ],
      "metadata": {
        "id": "5JSNYy1XUp_l"
      },
      "execution_count": 2,
      "outputs": []
    },
    {
      "cell_type": "code",
      "source": [
        "templete = NakliPromtTemplete(\n",
        "    templete= \"write a {length} poem about {topic}\",\n",
        "    input_varibles = ['length','topc']\n",
        ")"
      ],
      "metadata": {
        "id": "3Ms9stuuVFKy"
      },
      "execution_count": 3,
      "outputs": []
    },
    {
      "cell_type": "code",
      "source": [
        "prompt = templete.format({'length':'short','topic':'india'})"
      ],
      "metadata": {
        "id": "jrdSeMn2VXXt"
      },
      "execution_count": 4,
      "outputs": []
    },
    {
      "cell_type": "code",
      "source": [
        "llm = NakliLLM()"
      ],
      "metadata": {
        "colab": {
          "base_uri": "https://localhost:8080/"
        },
        "id": "9hDIItk2VjKo",
        "outputId": "85b6e563-2228-4b12-8cf3-a1ff03e3653d"
      },
      "execution_count": 5,
      "outputs": [
        {
          "output_type": "stream",
          "name": "stdout",
          "text": [
            "LLM created.\n"
          ]
        }
      ]
    },
    {
      "cell_type": "code",
      "source": [
        "llm.predict(prompt)"
      ],
      "metadata": {
        "colab": {
          "base_uri": "https://localhost:8080/"
        },
        "id": "JihaimxLVoOF",
        "outputId": "66041b0e-0e7c-43e0-d353-97bf1ba49211"
      },
      "execution_count": 6,
      "outputs": [
        {
          "output_type": "execute_result",
          "data": {
            "text/plain": [
              "{'response': 'IPL is cricket leauge.'}"
            ]
          },
          "metadata": {},
          "execution_count": 6
        }
      ]
    },
    {
      "cell_type": "code",
      "source": [
        "class NakliLLMChain:\n",
        "  def __init__(self,llm,prompt):\n",
        "    self.llm = llm\n",
        "    self.prompt = prompt\n",
        "\n",
        "  def run(self, input_dict):\n",
        "\n",
        "    final_prompt = self.prompt.format(input_dict)\n",
        "    result = self.llm.predict(final_prompt)\n",
        "\n",
        "    return result['response']"
      ],
      "metadata": {
        "id": "YJMHeiQeVsMA"
      },
      "execution_count": 16,
      "outputs": []
    },
    {
      "cell_type": "code",
      "source": [
        "template = NakliPromtTemplete(\n",
        "    templete= 'write a {length} poem about {topic}',\n",
        "    input_varibles = ['length','topic']\n",
        ")"
      ],
      "metadata": {
        "id": "wB7NOdyEWSMw"
      },
      "execution_count": 17,
      "outputs": []
    },
    {
      "cell_type": "code",
      "source": [
        "llm = NakliLLM()"
      ],
      "metadata": {
        "colab": {
          "base_uri": "https://localhost:8080/"
        },
        "id": "pP5Mrt8RW4dO",
        "outputId": "e5a27933-d417-4063-863c-ac55bb5bf1fe"
      },
      "execution_count": 18,
      "outputs": [
        {
          "output_type": "stream",
          "name": "stdout",
          "text": [
            "LLM created.\n"
          ]
        }
      ]
    },
    {
      "cell_type": "code",
      "source": [
        "chain = NakliLLMChain(llm , template)"
      ],
      "metadata": {
        "id": "4aCnlxIkXGKz"
      },
      "execution_count": 19,
      "outputs": []
    },
    {
      "cell_type": "code",
      "source": [
        "chain.run({'length':'short','topic':'india'})"
      ],
      "metadata": {
        "colab": {
          "base_uri": "https://localhost:8080/",
          "height": 35
        },
        "id": "kETeMDg3W7p-",
        "outputId": "871c6639-a32d-4dae-eeca-8407c0dba064"
      },
      "execution_count": 20,
      "outputs": [
        {
          "output_type": "execute_result",
          "data": {
            "text/plain": [
              "'IPL is cricket leauge.'"
            ],
            "application/vnd.google.colaboratory.intrinsic+json": {
              "type": "string"
            }
          },
          "metadata": {},
          "execution_count": 20
        }
      ]
    }
  ]
}